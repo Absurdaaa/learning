{
 "cells": [
  {
   "cell_type": "markdown",
   "metadata": {},
   "source": [
    "大批量梯度下降："
   ]
  },
  {
   "cell_type": "markdown",
   "metadata": {},
   "source": [
    "找到的解比较好"
   ]
  },
  {
   "cell_type": "markdown",
   "metadata": {},
   "source": [
    "  但是每次迭代theta的时候用到所有样本，速度慢\n"
   ]
  },
  {
   "cell_type": "code",
   "execution_count": 87,
   "metadata": {},
   "outputs": [],
   "source": [
    "import numpy as np\n",
    "import time\n",
    "np.random.seed(0)\n",
    "#维度\n",
    "n=5000\n",
    "d=10\n",
    "# 目标系数\n",
    "theta=np.random.rand(d,1)\n",
    "\n",
    "# 创建数据集X，y\n",
    "#np.random.seed(int(time.time()))\n",
    "X = np.random.rand(n, d)              #100个样本点\n",
    "y = 4 + X.dot(theta) + np.random.randn(n, 1)\n",
    "X_b = np.concatenate([np.ones((n, 1)), X],axis=1)   #合并矩阵，把常系数放进去\n",
    "theta=np.concatenate([np.full((1,1),4),theta],axis=0)"
   ]
  },
  {
   "cell_type": "code",
   "execution_count": 88,
   "metadata": {},
   "outputs": [
    {
     "name": "stdout",
     "output_type": "stream",
     "text": [
      "Mean Squared Error: 0.001502919121636201\n",
      "Estimated parameters (theta):\n",
      " [[4.03972887]\n",
      " [0.56881984]\n",
      " [0.70820084]\n",
      " [0.6015662 ]\n",
      " [0.53157519]\n",
      " [0.42204981]\n",
      " [0.66637995]\n",
      " [0.37363356]\n",
      " [0.93870032]\n",
      " [0.87761548]\n",
      " [0.3978455 ]]\n",
      "True parameters (theta):\n",
      " [[4.        ]\n",
      " [0.5488135 ]\n",
      " [0.71518937]\n",
      " [0.60276338]\n",
      " [0.54488318]\n",
      " [0.4236548 ]\n",
      " [0.64589411]\n",
      " [0.43758721]\n",
      " [0.891773  ]\n",
      " [0.96366276]\n",
      " [0.38344152]]\n"
     ]
    }
   ],
   "source": [
    "# 更改学习率和迭代次数  \n",
    "n_iterations = 100000  # 增加迭代次数  \n",
    "# t0 和 t1 的修改  \n",
    "t0, t1 = 5,500  # 尝试更合适的学习率  \n",
    " \n",
    "# 定义一个函数来动态调整学习率\n",
    "def learning_rate_schedule(t):\n",
    "    return t0/(t+t1)\n",
    " \n",
    "# 迭代更新  \n",
    "for i in range(n_iterations):  \n",
    "    # 计算误差  \n",
    "    loss = X_b.dot(theta_now) - y  \n",
    "    # 计算梯度  \n",
    "    gradients = X_b.T.dot(loss) / 100  \n",
    "    # 更新参数  \n",
    "    learning_rate = learning_rate_schedule(i)  \n",
    "    theta_now = theta_now - learning_rate * gradients  \n",
    "\n",
    "# 评估效果  \n",
    "mse = np.mean((theta_now - theta) ** 2)  \n",
    "print(\"Mean Squared Error:\", mse)  \n",
    "print(\"Estimated parameters (theta):\\n\", theta_now)  \n",
    "print(\"True parameters (theta):\\n\", theta)  \n"
   ]
  },
  {
   "cell_type": "markdown",
   "metadata": {},
   "source": [
    "# 总结\n",
    "1. 样本点个数更能决定最终结果误差大小\n",
    "2. 迭代次数，学习率变化，样本点个数都会影响结果，主要是噪声会影响导致一些参数误差较大\n",
    "3. 经过这个初步自主跑代码，顺便将numpy熟练运用了"
   ]
  }
 ],
 "metadata": {
  "kernelspec": {
   "display_name": "Python 3",
   "language": "python",
   "name": "python3"
  },
  "language_info": {
   "codemirror_mode": {
    "name": "ipython",
    "version": 3
   },
   "file_extension": ".py",
   "mimetype": "text/x-python",
   "name": "python",
   "nbconvert_exporter": "python",
   "pygments_lexer": "ipython3",
   "version": "3.8.9"
  }
 },
 "nbformat": 4,
 "nbformat_minor": 2
}
