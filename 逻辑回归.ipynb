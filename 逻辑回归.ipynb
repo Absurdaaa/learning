{
 "cells": [
  {
   "cell_type": "markdown",
   "metadata": {},
   "source": [
    "# 逻辑回归\n",
    "1. 二分类算法\n"
   ]
  },
  {
   "cell_type": "code",
   "execution_count": 39,
   "metadata": {},
   "outputs": [],
   "source": [
    "import numpy as np\n",
    "import pandas as pd\n",
    "from sklearn.model_selection import train_test_split\n",
    "from sklearn.linear_model import LogisticRegression\n",
    "from sklearn.metrics import classification_report\n",
    "\n",
    "# 癌症数据集，希望做个二分类模型去判别是否为癌症\n",
    "from sklearn.datasets import load_breast_cancer \n",
    "cancer = load_breast_cancer()"
   ]
  },
  {
   "cell_type": "code",
   "execution_count": 121,
   "metadata": {},
   "outputs": [
    {
     "name": "stdout",
     "output_type": "stream",
     "text": [
      "              precision    recall  f1-score   support\n",
      "\n",
      "           0       0.93      0.91      0.92        44\n",
      "           1       0.94      0.96      0.95        70\n",
      "\n",
      "    accuracy                           0.94       114\n",
      "   macro avg       0.94      0.93      0.93       114\n",
      "weighted avg       0.94      0.94      0.94       114\n",
      "\n"
     ]
    },
    {
     "name": "stderr",
     "output_type": "stream",
     "text": [
      "/Users/linshangjin/Desktop/python/.venv/lib/python3.12/site-packages/sklearn/utils/validation.py:1339: DataConversionWarning: A column-vector y was passed when a 1d array was expected. Please change the shape of y to (n_samples, ), for example using ravel().\n",
      "  y = column_or_1d(y, warn=True)\n",
      "/Users/linshangjin/Desktop/python/.venv/lib/python3.12/site-packages/sklearn/linear_model/_logistic.py:469: ConvergenceWarning: lbfgs failed to converge (status=1):\n",
      "STOP: TOTAL NO. of ITERATIONS REACHED LIMIT.\n",
      "\n",
      "Increase the number of iterations (max_iter) or scale the data as shown in:\n",
      "    https://scikit-learn.org/stable/modules/preprocessing.html\n",
      "Please also refer to the documentation for alternative solver options:\n",
      "    https://scikit-learn.org/stable/modules/linear_model.html#logistic-regression\n",
      "  n_iter_i = _check_optimize_result(\n"
     ]
    }
   ],
   "source": [
    "data=cancer[\"data\"]\n",
    "col = cancer['feature_names']       #提取特征的名字\n",
    "x = pd.DataFrame(data,columns=col)  #那些特征的数值,30个特征，569个数据\n",
    "target = cancer.target.astype(int)\n",
    "y = pd.DataFrame(target,columns=['target'])#对应特征组合下的类别标签\n",
    "\n",
    "# 划分数据集\n",
    "x_train,x_test,y_train,y_test=train_test_split(x,y,test_size=0.2)\n",
    "\n",
    "model = LogisticRegression()#默认参数\n",
    "model.fit(x_train, y_train)\n",
    "y_pred = model.predict(x_test)\n",
    "print(classification_report(y_test, y_pred))"
   ]
  },
  {
   "cell_type": "markdown",
   "metadata": {},
   "source": [
    "下面我们来手动实现一下逻辑回归，还是用上面的数据来分类癌症患者"
   ]
  },
  {
   "cell_type": "code",
   "execution_count": 123,
   "metadata": {},
   "outputs": [],
   "source": [
    "import numpy as np\n",
    "import pandas as pd\n",
    "from sklearn.model_selection import train_test_split\n",
    "\n",
    "# 癌症数据集，希望做个二分类模型去判别是否为癌症\n",
    "from sklearn.datasets import load_breast_cancer \n",
    "cancer = load_breast_cancer()\n",
    "\n",
    "data=cancer[\"data\"]\n",
    "col = cancer['feature_names']       #提取特征的名字\n",
    "X = pd.DataFrame(data,columns=col)  #那些特征的数值,30个特征，569个数据\n",
    "target = cancer.target.astype(int)\n",
    "y = pd.DataFrame(target,columns=['target'])#对应特征组合下的类别标签\n",
    "y=y.to_numpy()\n",
    "\n",
    "X_b=np.concatenate([np.ones((len(y),1)),X],axis=1)\n",
    "\n",
    "# 划分数据集\n",
    "x_train,x_test,y_train,y_test=train_test_split(X_b,y,test_size=0.2,random_state=0)"
   ]
  },
  {
   "cell_type": "code",
   "execution_count": 149,
   "metadata": {},
   "outputs": [
    {
     "name": "stderr",
     "output_type": "stream",
     "text": [
      "/var/folders/1n/4skwfl_n6gq3hxvc100399q80000gn/T/ipykernel_92359/3143669602.py:17: RuntimeWarning: invalid value encountered in subtract\n",
      "  theta=theta - eta*gradients.T\n"
     ]
    },
    {
     "name": "stdout",
     "output_type": "stream",
     "text": [
      "Accuracy: 41.23%\n"
     ]
    }
   ],
   "source": [
    "# 学习率衰减策略，迭代到后面学习率逐渐变小\n",
    "t0,t1=5,50\n",
    "def learning_schedule(t):\n",
    "    return t0/(t+t1)\n",
    "\n",
    "# 迭代次数\n",
    "n_epoch=10000\n",
    "# 初始化待求参数\n",
    "theta=np.ones((31,1))\n",
    "# 使用样本数\n",
    "m=len(y_test)\n",
    "\n",
    "\n",
    "for epoch in range(n_epoch):\n",
    "    gradients= -1/m * (y_train.T-theta.T.dot(x_train.T)).dot(x_train)\n",
    "    eta=learning_schedule(epoch)\n",
    "    theta=theta - eta*gradients.T\n",
    "\n",
    "# 验证集检验\n",
    "y_test_pred=(theta.T.dot(x_test.T)>0).astype(int)\n",
    "\n",
    "# 计算准确率  \n",
    "accuracy = np.mean(y_test_pred == y_test.T)  \n",
    "print(f'Accuracy: {accuracy * 100:.2f}%') "
   ]
  },
  {
   "cell_type": "code",
   "execution_count": 145,
   "metadata": {},
   "outputs": [
    {
     "data": {
      "text/plain": [
       "array([[ 1.     , 10.05   , 17.53   , ...,  0.06499,  0.2894 ,  0.07664],\n",
       "       [ 1.     , 10.8    , 21.98   , ...,  0.07485,  0.2965 ,  0.07662],\n",
       "       [ 1.     , 16.14   , 14.86   , ...,  0.1129 ,  0.2778 ,  0.07012],\n",
       "       ...,\n",
       "       [ 1.     ,  9.436  , 18.32   , ...,  0.05052,  0.2454 ,  0.08136],\n",
       "       [ 1.     ,  9.72   , 18.22   , ...,  0.     ,  0.1909 ,  0.06559],\n",
       "       [ 1.     , 11.51   , 23.93   , ...,  0.09653,  0.2112 ,  0.08732]])"
      ]
     },
     "execution_count": 145,
     "metadata": {},
     "output_type": "execute_result"
    }
   ],
   "source": [
    "x_train"
   ]
  }
 ],
 "metadata": {
  "kernelspec": {
   "display_name": ".venv",
   "language": "python",
   "name": "python3"
  },
  "language_info": {
   "codemirror_mode": {
    "name": "ipython",
    "version": 3
   },
   "file_extension": ".py",
   "mimetype": "text/x-python",
   "name": "python",
   "nbconvert_exporter": "python",
   "pygments_lexer": "ipython3",
   "version": "3.12.6"
  }
 },
 "nbformat": 4,
 "nbformat_minor": 2
}
